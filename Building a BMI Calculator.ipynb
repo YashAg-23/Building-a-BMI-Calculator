{
 "cells": [
  {
   "cell_type": "markdown",
   "id": "ca945d63-bdb2-4129-b959-f46b05e4414c",
   "metadata": {},
   "source": [
    "BMI Calculator"
   ]
  },
  {
   "cell_type": "code",
   "execution_count": null,
   "id": "56afcf84-6993-403a-bb18-9335c92d5053",
   "metadata": {},
   "outputs": [],
   "source": [
    "# For reference purposes, while buildind BMI Calculator"
   ]
  },
  {
   "cell_type": "code",
   "execution_count": 1,
   "id": "00765746-2819-49c5-9496-707b0b7e19cf",
   "metadata": {},
   "outputs": [],
   "source": [
    "# BMI = (Weight in pounds * 703) / (Height in inches * Height in inches)\n",
    "\n",
    "# Under 18.5\t Underweight\t    Minimal\n",
    "# 18.5 - 24.9\tNormal Weight\t    Minimal\n",
    "# 25 - 29.9\t     Overweight\t        Increased\n",
    "# 30 - 34.9\t       Obese\t        High\n",
    "# 35 - 39.9\t   Severely Obese\t    Very High\n",
    "# 40 and over   Morbidly Obese\t    Extremely High"
   ]
  },
  {
   "cell_type": "code",
   "execution_count": null,
   "id": "88e461a5-f315-416f-b3ba-ceca97e36ac1",
   "metadata": {},
   "outputs": [],
   "source": []
  },
  {
   "cell_type": "code",
   "execution_count": 23,
   "id": "ebfb9e82-2ee7-4c9f-900b-d5a4b46d636b",
   "metadata": {},
   "outputs": [
    {
     "name": "stdin",
     "output_type": "stream",
     "text": [
      "Enter your name:  Yash\n",
      "Enter your weight in pounds:  170\n",
      "Enter your height in inches:  67\n"
     ]
    },
    {
     "name": "stdout",
     "output_type": "stream",
     "text": [
      "26.62285586990421\n",
      "Yash, you are overweight\n"
     ]
    }
   ],
   "source": [
    "name = input('Enter your name: ')\n",
    "weight = float(input('Enter your weight in pounds: '))\n",
    "height = float(input('Enter your height in inches: '))\n",
    "BMI = (weight * 703) / (height * height)                     \n",
    "print(BMI)\n",
    "\n",
    "if BMI > 0:\n",
    "    if BMI < 18.5:\n",
    "        print(name +', you are underweight')\n",
    "    elif BMI <= 24.9:\n",
    "        print(name+', you are normal weight')\n",
    "    elif BMI <= 29.9:\n",
    "        print(name+', you are overweight')\n",
    "    elif BMI <= 34.9:\n",
    "        print(name+', you are obese')\n",
    "    elif BMI <= 39.9:\n",
    "        print(name+', you are severely obese')   \n",
    "    else:\n",
    "        print(name+', you are morbidly obese')\n",
    "else:\n",
    "    print('Enter valid inputs')\n",
    "\n",
    "                        "
   ]
  },
  {
   "cell_type": "code",
   "execution_count": null,
   "id": "574cf892-2ef5-4364-9be7-eeccd93404ea",
   "metadata": {},
   "outputs": [],
   "source": []
  },
  {
   "cell_type": "code",
   "execution_count": null,
   "id": "a0d1a853-1ce5-4dd0-864f-5d61fe9ddd16",
   "metadata": {},
   "outputs": [],
   "source": []
  },
  {
   "cell_type": "code",
   "execution_count": null,
   "id": "ab7bcd0a-18e2-4f7b-a24a-24433c5e9dfb",
   "metadata": {},
   "outputs": [],
   "source": []
  },
  {
   "cell_type": "code",
   "execution_count": null,
   "id": "1a23b1a0-c050-41b5-bbc6-b5c354e31e08",
   "metadata": {},
   "outputs": [],
   "source": []
  },
  {
   "cell_type": "code",
   "execution_count": null,
   "id": "77915645-f779-4ee2-9db1-3a321591c868",
   "metadata": {},
   "outputs": [],
   "source": []
  },
  {
   "cell_type": "code",
   "execution_count": null,
   "id": "dfbc06e6-f18a-4115-b454-49b9b23a7502",
   "metadata": {},
   "outputs": [],
   "source": []
  },
  {
   "cell_type": "code",
   "execution_count": null,
   "id": "359a7da7-b361-41fb-a39d-0a252e33a874",
   "metadata": {},
   "outputs": [],
   "source": []
  },
  {
   "cell_type": "code",
   "execution_count": null,
   "id": "d562d406-e950-466f-bab7-5020f9d106cf",
   "metadata": {},
   "outputs": [],
   "source": []
  },
  {
   "cell_type": "code",
   "execution_count": null,
   "id": "c87fc17d-5af3-4f0f-be18-26f64083716d",
   "metadata": {},
   "outputs": [],
   "source": []
  },
  {
   "cell_type": "code",
   "execution_count": null,
   "id": "1aec5fa2-7c92-49ea-8dd8-2ecac5e190c9",
   "metadata": {},
   "outputs": [],
   "source": []
  },
  {
   "cell_type": "code",
   "execution_count": null,
   "id": "eb021ff3-a00c-4fb2-a25b-bd116611664e",
   "metadata": {},
   "outputs": [],
   "source": []
  },
  {
   "cell_type": "code",
   "execution_count": null,
   "id": "90b992e8-58ab-4708-b373-e3e857628701",
   "metadata": {},
   "outputs": [],
   "source": []
  },
  {
   "cell_type": "code",
   "execution_count": null,
   "id": "7d6b90c0-3e4b-4953-8d8c-bc529b313767",
   "metadata": {},
   "outputs": [],
   "source": []
  },
  {
   "cell_type": "code",
   "execution_count": null,
   "id": "76117d99-2002-4028-a462-42671d75073b",
   "metadata": {},
   "outputs": [],
   "source": []
  }
 ],
 "metadata": {
  "kernelspec": {
   "display_name": "Python 3 (ipykernel)",
   "language": "python",
   "name": "python3"
  },
  "language_info": {
   "codemirror_mode": {
    "name": "ipython",
    "version": 3
   },
   "file_extension": ".py",
   "mimetype": "text/x-python",
   "name": "python",
   "nbconvert_exporter": "python",
   "pygments_lexer": "ipython3",
   "version": "3.11.7"
  }
 },
 "nbformat": 4,
 "nbformat_minor": 5
}
